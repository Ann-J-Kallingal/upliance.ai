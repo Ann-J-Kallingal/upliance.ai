{
 "cells": [
  {
   "cell_type": "code",
   "execution_count": 2,
   "id": "af580922",
   "metadata": {},
   "outputs": [],
   "source": [
    "import numpy as np\n",
    "import pandas as pd\n",
    "import matplotlib.pyplot as plt\n",
    "import seaborn as sns"
   ]
  },
  {
   "cell_type": "code",
   "execution_count": 3,
   "id": "a65db65a",
   "metadata": {},
   "outputs": [
    {
     "data": {
      "text/html": [
       "<div>\n",
       "<style scoped>\n",
       "    .dataframe tbody tr th:only-of-type {\n",
       "        vertical-align: middle;\n",
       "    }\n",
       "\n",
       "    .dataframe tbody tr th {\n",
       "        vertical-align: top;\n",
       "    }\n",
       "\n",
       "    .dataframe thead th {\n",
       "        text-align: right;\n",
       "    }\n",
       "</style>\n",
       "<table border=\"1\" class=\"dataframe\">\n",
       "  <thead>\n",
       "    <tr style=\"text-align: right;\">\n",
       "      <th></th>\n",
       "      <th>User ID</th>\n",
       "      <th>User Name</th>\n",
       "      <th>Age</th>\n",
       "      <th>Location</th>\n",
       "      <th>Registration Date</th>\n",
       "      <th>Phone</th>\n",
       "      <th>Email</th>\n",
       "      <th>Favorite Meal</th>\n",
       "      <th>Total Orders</th>\n",
       "    </tr>\n",
       "  </thead>\n",
       "  <tbody>\n",
       "    <tr>\n",
       "      <th>0</th>\n",
       "      <td>U001</td>\n",
       "      <td>Alice Johnson</td>\n",
       "      <td>28.0</td>\n",
       "      <td>New York</td>\n",
       "      <td>2023-01-15</td>\n",
       "      <td>123-456-7890</td>\n",
       "      <td>alice@email.com</td>\n",
       "      <td>Dinner</td>\n",
       "      <td>12.0</td>\n",
       "    </tr>\n",
       "    <tr>\n",
       "      <th>1</th>\n",
       "      <td>U002</td>\n",
       "      <td>Bob Smith</td>\n",
       "      <td>35.0</td>\n",
       "      <td>Los Angeles</td>\n",
       "      <td>2023-02-20</td>\n",
       "      <td>987-654-3210</td>\n",
       "      <td>bob@email.com</td>\n",
       "      <td>Lunch</td>\n",
       "      <td>8.0</td>\n",
       "    </tr>\n",
       "    <tr>\n",
       "      <th>2</th>\n",
       "      <td>U003</td>\n",
       "      <td>Charlie Lee</td>\n",
       "      <td>42.0</td>\n",
       "      <td>Chicago</td>\n",
       "      <td>2023-03-10</td>\n",
       "      <td>555-123-4567</td>\n",
       "      <td>charlie@email.com</td>\n",
       "      <td>Breakfast</td>\n",
       "      <td>15.0</td>\n",
       "    </tr>\n",
       "    <tr>\n",
       "      <th>3</th>\n",
       "      <td>U004</td>\n",
       "      <td>David Brown</td>\n",
       "      <td>27.0</td>\n",
       "      <td>San Francisco</td>\n",
       "      <td>2023-04-05</td>\n",
       "      <td>444-333-2222</td>\n",
       "      <td>david@email.com</td>\n",
       "      <td>Dinner</td>\n",
       "      <td>10.0</td>\n",
       "    </tr>\n",
       "    <tr>\n",
       "      <th>4</th>\n",
       "      <td>U005</td>\n",
       "      <td>Emma White</td>\n",
       "      <td>30.0</td>\n",
       "      <td>Seattle</td>\n",
       "      <td>2023-05-22</td>\n",
       "      <td>777-888-9999</td>\n",
       "      <td>emma@email.com</td>\n",
       "      <td>Lunch</td>\n",
       "      <td>9.0</td>\n",
       "    </tr>\n",
       "  </tbody>\n",
       "</table>\n",
       "</div>"
      ],
      "text/plain": [
       "  User ID      User Name   Age       Location Registration Date         Phone  \\\n",
       "0    U001  Alice Johnson  28.0       New York        2023-01-15  123-456-7890   \n",
       "1    U002      Bob Smith  35.0    Los Angeles        2023-02-20  987-654-3210   \n",
       "2    U003    Charlie Lee  42.0        Chicago        2023-03-10  555-123-4567   \n",
       "3    U004    David Brown  27.0  San Francisco        2023-04-05  444-333-2222   \n",
       "4    U005     Emma White  30.0        Seattle        2023-05-22  777-888-9999   \n",
       "\n",
       "               Email Favorite Meal  Total Orders  \n",
       "0    alice@email.com        Dinner          12.0  \n",
       "1      bob@email.com         Lunch           8.0  \n",
       "2  charlie@email.com     Breakfast          15.0  \n",
       "3    david@email.com        Dinner          10.0  \n",
       "4     emma@email.com         Lunch           9.0  "
      ]
     },
     "execution_count": 3,
     "metadata": {},
     "output_type": "execute_result"
    }
   ],
   "source": [
    "User_det=pd.read_excel(\"Assignment.xlsx\",sheet_name=\"UserDetails.csv\")\n",
    "User_det.head()"
   ]
  },
  {
   "cell_type": "code",
   "execution_count": 4,
   "id": "4388d814",
   "metadata": {},
   "outputs": [
    {
     "data": {
      "text/plain": [
       "User ID              0\n",
       "User Name            0\n",
       "Age                  0\n",
       "Location             0\n",
       "Registration Date    0\n",
       "Phone                0\n",
       "Email                0\n",
       "Favorite Meal        0\n",
       "Total Orders         0\n",
       "dtype: int64"
      ]
     },
     "execution_count": 4,
     "metadata": {},
     "output_type": "execute_result"
    }
   ],
   "source": [
    "User_det.isnull().sum()"
   ]
  },
  {
   "cell_type": "code",
   "execution_count": 5,
   "id": "8abf81c4",
   "metadata": {
    "scrolled": true
   },
   "outputs": [
    {
     "data": {
      "text/plain": [
       "User ID                      object\n",
       "User Name                    object\n",
       "Age                         float64\n",
       "Location                     object\n",
       "Registration Date    datetime64[ns]\n",
       "Phone                        object\n",
       "Email                        object\n",
       "Favorite Meal                object\n",
       "Total Orders                float64\n",
       "dtype: object"
      ]
     },
     "execution_count": 5,
     "metadata": {},
     "output_type": "execute_result"
    }
   ],
   "source": [
    "User_det.dtypes"
   ]
  },
  {
   "cell_type": "code",
   "execution_count": 6,
   "id": "24bacf52",
   "metadata": {},
   "outputs": [],
   "source": [
    "User_det[['Age', 'Total Orders']] = User_det[['Age', 'Total Orders']].astype('int32')"
   ]
  },
  {
   "cell_type": "code",
   "execution_count": 7,
   "id": "a6cd5a76",
   "metadata": {},
   "outputs": [
    {
     "data": {
      "text/html": [
       "<div>\n",
       "<style scoped>\n",
       "    .dataframe tbody tr th:only-of-type {\n",
       "        vertical-align: middle;\n",
       "    }\n",
       "\n",
       "    .dataframe tbody tr th {\n",
       "        vertical-align: top;\n",
       "    }\n",
       "\n",
       "    .dataframe thead th {\n",
       "        text-align: right;\n",
       "    }\n",
       "</style>\n",
       "<table border=\"1\" class=\"dataframe\">\n",
       "  <thead>\n",
       "    <tr style=\"text-align: right;\">\n",
       "      <th></th>\n",
       "      <th>Session ID</th>\n",
       "      <th>User ID</th>\n",
       "      <th>Dish Name</th>\n",
       "      <th>Meal Type</th>\n",
       "      <th>Session Start</th>\n",
       "      <th>Session End</th>\n",
       "      <th>Duration (mins)</th>\n",
       "      <th>Session Rating</th>\n",
       "    </tr>\n",
       "  </thead>\n",
       "  <tbody>\n",
       "    <tr>\n",
       "      <th>0</th>\n",
       "      <td>S001</td>\n",
       "      <td>U001</td>\n",
       "      <td>Spaghetti</td>\n",
       "      <td>Dinner</td>\n",
       "      <td>2024-12-01 19:00:00</td>\n",
       "      <td>2024-12-01 19:30:00</td>\n",
       "      <td>30.0</td>\n",
       "      <td>4.5</td>\n",
       "    </tr>\n",
       "    <tr>\n",
       "      <th>1</th>\n",
       "      <td>S002</td>\n",
       "      <td>U002</td>\n",
       "      <td>Caesar Salad</td>\n",
       "      <td>Lunch</td>\n",
       "      <td>2024-12-01 12:00:00</td>\n",
       "      <td>2024-12-01 12:20:00</td>\n",
       "      <td>20.0</td>\n",
       "      <td>4.0</td>\n",
       "    </tr>\n",
       "    <tr>\n",
       "      <th>2</th>\n",
       "      <td>S003</td>\n",
       "      <td>U003</td>\n",
       "      <td>Grilled Chicken</td>\n",
       "      <td>Dinner</td>\n",
       "      <td>2024-12-02 19:30:00</td>\n",
       "      <td>2024-12-02 20:10:00</td>\n",
       "      <td>40.0</td>\n",
       "      <td>4.8</td>\n",
       "    </tr>\n",
       "    <tr>\n",
       "      <th>3</th>\n",
       "      <td>S004</td>\n",
       "      <td>U001</td>\n",
       "      <td>Pancakes</td>\n",
       "      <td>Breakfast</td>\n",
       "      <td>2024-12-02 07:30:00</td>\n",
       "      <td>2024-12-02 08:00:00</td>\n",
       "      <td>30.0</td>\n",
       "      <td>4.2</td>\n",
       "    </tr>\n",
       "    <tr>\n",
       "      <th>4</th>\n",
       "      <td>S005</td>\n",
       "      <td>U004</td>\n",
       "      <td>Caesar Salad</td>\n",
       "      <td>Lunch</td>\n",
       "      <td>2024-12-03 13:00:00</td>\n",
       "      <td>2024-12-03 13:15:00</td>\n",
       "      <td>15.0</td>\n",
       "      <td>4.7</td>\n",
       "    </tr>\n",
       "  </tbody>\n",
       "</table>\n",
       "</div>"
      ],
      "text/plain": [
       "  Session ID User ID        Dish Name  Meal Type       Session Start  \\\n",
       "0       S001    U001        Spaghetti     Dinner 2024-12-01 19:00:00   \n",
       "1       S002    U002     Caesar Salad      Lunch 2024-12-01 12:00:00   \n",
       "2       S003    U003  Grilled Chicken     Dinner 2024-12-02 19:30:00   \n",
       "3       S004    U001         Pancakes  Breakfast 2024-12-02 07:30:00   \n",
       "4       S005    U004     Caesar Salad      Lunch 2024-12-03 13:00:00   \n",
       "\n",
       "          Session End  Duration (mins)  Session Rating  \n",
       "0 2024-12-01 19:30:00             30.0             4.5  \n",
       "1 2024-12-01 12:20:00             20.0             4.0  \n",
       "2 2024-12-02 20:10:00             40.0             4.8  \n",
       "3 2024-12-02 08:00:00             30.0             4.2  \n",
       "4 2024-12-03 13:15:00             15.0             4.7  "
      ]
     },
     "execution_count": 7,
     "metadata": {},
     "output_type": "execute_result"
    }
   ],
   "source": [
    "Cook_session=pd.read_excel(\"Assignment.xlsx\",sheet_name=\"CookingSessions.csv\")\n",
    "Cook_session.head()"
   ]
  },
  {
   "cell_type": "code",
   "execution_count": 8,
   "id": "4b662fa3",
   "metadata": {},
   "outputs": [
    {
     "data": {
      "text/plain": [
       "Session ID         0\n",
       "User ID            0\n",
       "Dish Name          0\n",
       "Meal Type          0\n",
       "Session Start      0\n",
       "Session End        0\n",
       "Duration (mins)    0\n",
       "Session Rating     0\n",
       "dtype: int64"
      ]
     },
     "execution_count": 8,
     "metadata": {},
     "output_type": "execute_result"
    }
   ],
   "source": [
    "Cook_session.isnull().sum()"
   ]
  },
  {
   "cell_type": "code",
   "execution_count": 9,
   "id": "8b3f2a86",
   "metadata": {},
   "outputs": [
    {
     "data": {
      "text/plain": [
       "Session ID                 object\n",
       "User ID                    object\n",
       "Dish Name                  object\n",
       "Meal Type                  object\n",
       "Session Start      datetime64[ns]\n",
       "Session End        datetime64[ns]\n",
       "Duration (mins)           float64\n",
       "Session Rating            float64\n",
       "dtype: object"
      ]
     },
     "execution_count": 9,
     "metadata": {},
     "output_type": "execute_result"
    }
   ],
   "source": [
    "Cook_session.dtypes"
   ]
  },
  {
   "cell_type": "markdown",
   "id": "a82b2bd3",
   "metadata": {},
   "source": [
    "# Data Cleaning"
   ]
  },
  {
   "cell_type": "code",
   "execution_count": 10,
   "id": "eb73784a",
   "metadata": {},
   "outputs": [],
   "source": [
    "Cook_session['Duration (mins)'] = Cook_session['Duration (mins)'].astype('int32')"
   ]
  },
  {
   "cell_type": "code",
   "execution_count": 11,
   "id": "434d4ed9",
   "metadata": {},
   "outputs": [
    {
     "data": {
      "text/html": [
       "<div>\n",
       "<style scoped>\n",
       "    .dataframe tbody tr th:only-of-type {\n",
       "        vertical-align: middle;\n",
       "    }\n",
       "\n",
       "    .dataframe tbody tr th {\n",
       "        vertical-align: top;\n",
       "    }\n",
       "\n",
       "    .dataframe thead th {\n",
       "        text-align: right;\n",
       "    }\n",
       "</style>\n",
       "<table border=\"1\" class=\"dataframe\">\n",
       "  <thead>\n",
       "    <tr style=\"text-align: right;\">\n",
       "      <th></th>\n",
       "      <th>Order ID</th>\n",
       "      <th>User ID</th>\n",
       "      <th>Order Date</th>\n",
       "      <th>Meal Type</th>\n",
       "      <th>Dish Name</th>\n",
       "      <th>Order Status</th>\n",
       "      <th>Amount (USD)</th>\n",
       "      <th>Time of Day</th>\n",
       "      <th>Rating</th>\n",
       "      <th>Session ID</th>\n",
       "    </tr>\n",
       "  </thead>\n",
       "  <tbody>\n",
       "    <tr>\n",
       "      <th>0</th>\n",
       "      <td>1001.0</td>\n",
       "      <td>U001</td>\n",
       "      <td>2024-12-01</td>\n",
       "      <td>Dinner</td>\n",
       "      <td>Spaghetti</td>\n",
       "      <td>Completed</td>\n",
       "      <td>15.0</td>\n",
       "      <td>Night</td>\n",
       "      <td>5.0</td>\n",
       "      <td>S001</td>\n",
       "    </tr>\n",
       "    <tr>\n",
       "      <th>1</th>\n",
       "      <td>1002.0</td>\n",
       "      <td>U002</td>\n",
       "      <td>2024-12-01</td>\n",
       "      <td>Lunch</td>\n",
       "      <td>Caesar Salad</td>\n",
       "      <td>Completed</td>\n",
       "      <td>10.0</td>\n",
       "      <td>Day</td>\n",
       "      <td>4.0</td>\n",
       "      <td>S002</td>\n",
       "    </tr>\n",
       "    <tr>\n",
       "      <th>2</th>\n",
       "      <td>1003.0</td>\n",
       "      <td>U003</td>\n",
       "      <td>2024-12-02</td>\n",
       "      <td>Dinner</td>\n",
       "      <td>Grilled Chicken</td>\n",
       "      <td>Canceled</td>\n",
       "      <td>12.5</td>\n",
       "      <td>Night</td>\n",
       "      <td>NaN</td>\n",
       "      <td>S003</td>\n",
       "    </tr>\n",
       "    <tr>\n",
       "      <th>3</th>\n",
       "      <td>1004.0</td>\n",
       "      <td>U001</td>\n",
       "      <td>2024-12-02</td>\n",
       "      <td>Breakfast</td>\n",
       "      <td>Pancakes</td>\n",
       "      <td>Completed</td>\n",
       "      <td>8.0</td>\n",
       "      <td>Morning</td>\n",
       "      <td>4.0</td>\n",
       "      <td>S004</td>\n",
       "    </tr>\n",
       "    <tr>\n",
       "      <th>4</th>\n",
       "      <td>1005.0</td>\n",
       "      <td>U004</td>\n",
       "      <td>2024-12-03</td>\n",
       "      <td>Lunch</td>\n",
       "      <td>Caesar Salad</td>\n",
       "      <td>Completed</td>\n",
       "      <td>9.0</td>\n",
       "      <td>Day</td>\n",
       "      <td>4.0</td>\n",
       "      <td>S005</td>\n",
       "    </tr>\n",
       "  </tbody>\n",
       "</table>\n",
       "</div>"
      ],
      "text/plain": [
       "   Order ID User ID Order Date  Meal Type        Dish Name Order Status  \\\n",
       "0    1001.0    U001 2024-12-01     Dinner        Spaghetti    Completed   \n",
       "1    1002.0    U002 2024-12-01      Lunch     Caesar Salad    Completed   \n",
       "2    1003.0    U003 2024-12-02     Dinner  Grilled Chicken     Canceled   \n",
       "3    1004.0    U001 2024-12-02  Breakfast         Pancakes    Completed   \n",
       "4    1005.0    U004 2024-12-03      Lunch     Caesar Salad    Completed   \n",
       "\n",
       "   Amount (USD) Time of Day  Rating Session ID  \n",
       "0          15.0       Night     5.0       S001  \n",
       "1          10.0         Day     4.0       S002  \n",
       "2          12.5       Night     NaN       S003  \n",
       "3           8.0     Morning     4.0       S004  \n",
       "4           9.0         Day     4.0       S005  "
      ]
     },
     "execution_count": 11,
     "metadata": {},
     "output_type": "execute_result"
    }
   ],
   "source": [
    "Order_det=pd.read_excel(\"Assignment.xlsx\",sheet_name=\"OrderDetails.csv\")\n",
    "Order_det.head()"
   ]
  },
  {
   "cell_type": "code",
   "execution_count": 12,
   "id": "f84c199e",
   "metadata": {},
   "outputs": [
    {
     "data": {
      "text/plain": [
       "Order ID        0\n",
       "User ID         0\n",
       "Order Date      0\n",
       "Meal Type       0\n",
       "Dish Name       0\n",
       "Order Status    0\n",
       "Amount (USD)    0\n",
       "Time of Day     0\n",
       "Rating          2\n",
       "Session ID      0\n",
       "dtype: int64"
      ]
     },
     "execution_count": 12,
     "metadata": {},
     "output_type": "execute_result"
    }
   ],
   "source": [
    "Order_det.isnull().sum()"
   ]
  },
  {
   "cell_type": "code",
   "execution_count": 13,
   "id": "4ea4d06f",
   "metadata": {},
   "outputs": [
    {
     "data": {
      "text/plain": [
       "Order ID               float64\n",
       "User ID                 object\n",
       "Order Date      datetime64[ns]\n",
       "Meal Type               object\n",
       "Dish Name               object\n",
       "Order Status            object\n",
       "Amount (USD)           float64\n",
       "Time of Day             object\n",
       "Rating                 float64\n",
       "Session ID              object\n",
       "dtype: object"
      ]
     },
     "execution_count": 13,
     "metadata": {},
     "output_type": "execute_result"
    }
   ],
   "source": [
    "Order_det.dtypes"
   ]
  },
  {
   "cell_type": "code",
   "execution_count": 14,
   "id": "e6ba90d5",
   "metadata": {},
   "outputs": [],
   "source": [
    "Order_det['Order ID']=Order_det['Order ID'].astype(\"int32\")"
   ]
  },
  {
   "cell_type": "code",
   "execution_count": 15,
   "id": "e2af63e2",
   "metadata": {},
   "outputs": [
    {
     "data": {
      "text/plain": [
       "4.285714285714286"
      ]
     },
     "execution_count": 15,
     "metadata": {},
     "output_type": "execute_result"
    }
   ],
   "source": [
    "Order_det['Rating'].mean()"
   ]
  },
  {
   "cell_type": "code",
   "execution_count": 16,
   "id": "bf1d8cba",
   "metadata": {},
   "outputs": [],
   "source": [
    "Order_det['Rating'] = Order_det['Rating'].fillna(Order_det['Rating'].mean()).round(1)"
   ]
  },
  {
   "cell_type": "code",
   "execution_count": 17,
   "id": "5cd1f1e0",
   "metadata": {},
   "outputs": [
    {
     "data": {
      "text/plain": [
       "0     5.0\n",
       "1     4.0\n",
       "2     4.3\n",
       "3     4.0\n",
       "4     4.0\n",
       "5     4.0\n",
       "6     4.0\n",
       "7     4.3\n",
       "8     5.0\n",
       "9     4.0\n",
       "10    4.0\n",
       "11    4.0\n",
       "12    4.0\n",
       "13    5.0\n",
       "14    5.0\n",
       "15    4.0\n",
       "Name: Rating, dtype: float64"
      ]
     },
     "execution_count": 17,
     "metadata": {},
     "output_type": "execute_result"
    }
   ],
   "source": [
    "Order_det['Rating'] "
   ]
  },
  {
   "cell_type": "markdown",
   "id": "2f9073e7",
   "metadata": {},
   "source": [
    "## Merging 3 Tables"
   ]
  },
  {
   "cell_type": "code",
   "execution_count": 18,
   "id": "88bbd4c3",
   "metadata": {},
   "outputs": [],
   "source": [
    "User_cooking=User_det.merge(Cook_session,on='User ID',how='left')"
   ]
  },
  {
   "cell_type": "code",
   "execution_count": 19,
   "id": "a3ea6001",
   "metadata": {},
   "outputs": [
    {
     "data": {
      "text/html": [
       "<div>\n",
       "<style scoped>\n",
       "    .dataframe tbody tr th:only-of-type {\n",
       "        vertical-align: middle;\n",
       "    }\n",
       "\n",
       "    .dataframe tbody tr th {\n",
       "        vertical-align: top;\n",
       "    }\n",
       "\n",
       "    .dataframe thead th {\n",
       "        text-align: right;\n",
       "    }\n",
       "</style>\n",
       "<table border=\"1\" class=\"dataframe\">\n",
       "  <thead>\n",
       "    <tr style=\"text-align: right;\">\n",
       "      <th></th>\n",
       "      <th>User ID</th>\n",
       "      <th>User Name</th>\n",
       "      <th>Age</th>\n",
       "      <th>Location</th>\n",
       "      <th>Registration Date</th>\n",
       "      <th>Phone</th>\n",
       "      <th>Email</th>\n",
       "      <th>Favorite Meal</th>\n",
       "      <th>Total Orders</th>\n",
       "      <th>Session ID</th>\n",
       "      <th>Dish Name</th>\n",
       "      <th>Meal Type</th>\n",
       "      <th>Session Start</th>\n",
       "      <th>Session End</th>\n",
       "      <th>Duration (mins)</th>\n",
       "      <th>Session Rating</th>\n",
       "    </tr>\n",
       "  </thead>\n",
       "  <tbody>\n",
       "    <tr>\n",
       "      <th>0</th>\n",
       "      <td>U001</td>\n",
       "      <td>Alice Johnson</td>\n",
       "      <td>28</td>\n",
       "      <td>New York</td>\n",
       "      <td>2023-01-15</td>\n",
       "      <td>123-456-7890</td>\n",
       "      <td>alice@email.com</td>\n",
       "      <td>Dinner</td>\n",
       "      <td>12</td>\n",
       "      <td>S001</td>\n",
       "      <td>Spaghetti</td>\n",
       "      <td>Dinner</td>\n",
       "      <td>2024-12-01 19:00:00</td>\n",
       "      <td>2024-12-01 19:30:00</td>\n",
       "      <td>30.0</td>\n",
       "      <td>4.5</td>\n",
       "    </tr>\n",
       "    <tr>\n",
       "      <th>1</th>\n",
       "      <td>U001</td>\n",
       "      <td>Alice Johnson</td>\n",
       "      <td>28</td>\n",
       "      <td>New York</td>\n",
       "      <td>2023-01-15</td>\n",
       "      <td>123-456-7890</td>\n",
       "      <td>alice@email.com</td>\n",
       "      <td>Dinner</td>\n",
       "      <td>12</td>\n",
       "      <td>S004</td>\n",
       "      <td>Pancakes</td>\n",
       "      <td>Breakfast</td>\n",
       "      <td>2024-12-02 07:30:00</td>\n",
       "      <td>2024-12-02 08:00:00</td>\n",
       "      <td>30.0</td>\n",
       "      <td>4.2</td>\n",
       "    </tr>\n",
       "    <tr>\n",
       "      <th>2</th>\n",
       "      <td>U001</td>\n",
       "      <td>Alice Johnson</td>\n",
       "      <td>28</td>\n",
       "      <td>New York</td>\n",
       "      <td>2023-01-15</td>\n",
       "      <td>123-456-7890</td>\n",
       "      <td>alice@email.com</td>\n",
       "      <td>Dinner</td>\n",
       "      <td>12</td>\n",
       "      <td>S009</td>\n",
       "      <td>Grilled Chicken</td>\n",
       "      <td>Dinner</td>\n",
       "      <td>2024-12-05 19:00:00</td>\n",
       "      <td>2024-12-05 19:40:00</td>\n",
       "      <td>40.0</td>\n",
       "      <td>4.9</td>\n",
       "    </tr>\n",
       "    <tr>\n",
       "      <th>3</th>\n",
       "      <td>U002</td>\n",
       "      <td>Bob Smith</td>\n",
       "      <td>35</td>\n",
       "      <td>Los Angeles</td>\n",
       "      <td>2023-02-20</td>\n",
       "      <td>987-654-3210</td>\n",
       "      <td>bob@email.com</td>\n",
       "      <td>Lunch</td>\n",
       "      <td>8</td>\n",
       "      <td>S002</td>\n",
       "      <td>Caesar Salad</td>\n",
       "      <td>Lunch</td>\n",
       "      <td>2024-12-01 12:00:00</td>\n",
       "      <td>2024-12-01 12:20:00</td>\n",
       "      <td>20.0</td>\n",
       "      <td>4.0</td>\n",
       "    </tr>\n",
       "    <tr>\n",
       "      <th>4</th>\n",
       "      <td>U002</td>\n",
       "      <td>Bob Smith</td>\n",
       "      <td>35</td>\n",
       "      <td>Los Angeles</td>\n",
       "      <td>2023-02-20</td>\n",
       "      <td>987-654-3210</td>\n",
       "      <td>bob@email.com</td>\n",
       "      <td>Lunch</td>\n",
       "      <td>8</td>\n",
       "      <td>S006</td>\n",
       "      <td>Spaghetti</td>\n",
       "      <td>Dinner</td>\n",
       "      <td>2024-12-03 18:30:00</td>\n",
       "      <td>2024-12-03 19:00:00</td>\n",
       "      <td>30.0</td>\n",
       "      <td>4.3</td>\n",
       "    </tr>\n",
       "    <tr>\n",
       "      <th>5</th>\n",
       "      <td>U002</td>\n",
       "      <td>Bob Smith</td>\n",
       "      <td>35</td>\n",
       "      <td>Los Angeles</td>\n",
       "      <td>2023-02-20</td>\n",
       "      <td>987-654-3210</td>\n",
       "      <td>bob@email.com</td>\n",
       "      <td>Lunch</td>\n",
       "      <td>8</td>\n",
       "      <td>S010</td>\n",
       "      <td>Oatmeal</td>\n",
       "      <td>Breakfast</td>\n",
       "      <td>2024-12-05 07:00:00</td>\n",
       "      <td>2024-12-05 07:10:00</td>\n",
       "      <td>10.0</td>\n",
       "      <td>4.1</td>\n",
       "    </tr>\n",
       "    <tr>\n",
       "      <th>6</th>\n",
       "      <td>U003</td>\n",
       "      <td>Charlie Lee</td>\n",
       "      <td>42</td>\n",
       "      <td>Chicago</td>\n",
       "      <td>2023-03-10</td>\n",
       "      <td>555-123-4567</td>\n",
       "      <td>charlie@email.com</td>\n",
       "      <td>Breakfast</td>\n",
       "      <td>15</td>\n",
       "      <td>S003</td>\n",
       "      <td>Grilled Chicken</td>\n",
       "      <td>Dinner</td>\n",
       "      <td>2024-12-02 19:30:00</td>\n",
       "      <td>2024-12-02 20:10:00</td>\n",
       "      <td>40.0</td>\n",
       "      <td>4.8</td>\n",
       "    </tr>\n",
       "    <tr>\n",
       "      <th>7</th>\n",
       "      <td>U003</td>\n",
       "      <td>Charlie Lee</td>\n",
       "      <td>42</td>\n",
       "      <td>Chicago</td>\n",
       "      <td>2023-03-10</td>\n",
       "      <td>555-123-4567</td>\n",
       "      <td>charlie@email.com</td>\n",
       "      <td>Breakfast</td>\n",
       "      <td>15</td>\n",
       "      <td>S008</td>\n",
       "      <td>Veggie Burger</td>\n",
       "      <td>Lunch</td>\n",
       "      <td>2024-12-04 13:30:00</td>\n",
       "      <td>2024-12-04 13:50:00</td>\n",
       "      <td>20.0</td>\n",
       "      <td>4.4</td>\n",
       "    </tr>\n",
       "    <tr>\n",
       "      <th>8</th>\n",
       "      <td>U003</td>\n",
       "      <td>Charlie Lee</td>\n",
       "      <td>42</td>\n",
       "      <td>Chicago</td>\n",
       "      <td>2023-03-10</td>\n",
       "      <td>555-123-4567</td>\n",
       "      <td>charlie@email.com</td>\n",
       "      <td>Breakfast</td>\n",
       "      <td>15</td>\n",
       "      <td>S011</td>\n",
       "      <td>Pancakes</td>\n",
       "      <td>Breakfast</td>\n",
       "      <td>2024-12-06 08:00:00</td>\n",
       "      <td>2024-12-06 08:30:00</td>\n",
       "      <td>30.0</td>\n",
       "      <td>4.6</td>\n",
       "    </tr>\n",
       "    <tr>\n",
       "      <th>9</th>\n",
       "      <td>U004</td>\n",
       "      <td>David Brown</td>\n",
       "      <td>27</td>\n",
       "      <td>San Francisco</td>\n",
       "      <td>2023-04-05</td>\n",
       "      <td>444-333-2222</td>\n",
       "      <td>david@email.com</td>\n",
       "      <td>Dinner</td>\n",
       "      <td>10</td>\n",
       "      <td>S005</td>\n",
       "      <td>Caesar Salad</td>\n",
       "      <td>Lunch</td>\n",
       "      <td>2024-12-03 13:00:00</td>\n",
       "      <td>2024-12-03 13:15:00</td>\n",
       "      <td>15.0</td>\n",
       "      <td>4.7</td>\n",
       "    </tr>\n",
       "    <tr>\n",
       "      <th>10</th>\n",
       "      <td>U004</td>\n",
       "      <td>David Brown</td>\n",
       "      <td>27</td>\n",
       "      <td>San Francisco</td>\n",
       "      <td>2023-04-05</td>\n",
       "      <td>444-333-2222</td>\n",
       "      <td>david@email.com</td>\n",
       "      <td>Dinner</td>\n",
       "      <td>10</td>\n",
       "      <td>S012</td>\n",
       "      <td>Spaghetti</td>\n",
       "      <td>Dinner</td>\n",
       "      <td>2024-12-06 19:00:00</td>\n",
       "      <td>2024-12-06 19:40:00</td>\n",
       "      <td>40.0</td>\n",
       "      <td>4.7</td>\n",
       "    </tr>\n",
       "    <tr>\n",
       "      <th>11</th>\n",
       "      <td>U005</td>\n",
       "      <td>Emma White</td>\n",
       "      <td>30</td>\n",
       "      <td>Seattle</td>\n",
       "      <td>2023-05-22</td>\n",
       "      <td>777-888-9999</td>\n",
       "      <td>emma@email.com</td>\n",
       "      <td>Lunch</td>\n",
       "      <td>9</td>\n",
       "      <td>S007</td>\n",
       "      <td>Grilled Chicken</td>\n",
       "      <td>Dinner</td>\n",
       "      <td>2024-12-04 18:00:00</td>\n",
       "      <td>2024-12-04 18:45:00</td>\n",
       "      <td>45.0</td>\n",
       "      <td>4.6</td>\n",
       "    </tr>\n",
       "    <tr>\n",
       "      <th>12</th>\n",
       "      <td>U005</td>\n",
       "      <td>Emma White</td>\n",
       "      <td>30</td>\n",
       "      <td>Seattle</td>\n",
       "      <td>2023-05-22</td>\n",
       "      <td>777-888-9999</td>\n",
       "      <td>emma@email.com</td>\n",
       "      <td>Lunch</td>\n",
       "      <td>9</td>\n",
       "      <td>S013</td>\n",
       "      <td>Caesar Salad</td>\n",
       "      <td>Lunch</td>\n",
       "      <td>2024-12-07 12:30:00</td>\n",
       "      <td>2024-12-07 13:00:00</td>\n",
       "      <td>30.0</td>\n",
       "      <td>4.4</td>\n",
       "    </tr>\n",
       "    <tr>\n",
       "      <th>13</th>\n",
       "      <td>U006</td>\n",
       "      <td>Frank Green</td>\n",
       "      <td>25</td>\n",
       "      <td>Austin</td>\n",
       "      <td>2023-06-15</td>\n",
       "      <td>888-777-6666</td>\n",
       "      <td>frank@email.com</td>\n",
       "      <td>Dinner</td>\n",
       "      <td>7</td>\n",
       "      <td>S014</td>\n",
       "      <td>Grilled Chicken</td>\n",
       "      <td>Dinner</td>\n",
       "      <td>2024-12-07 18:00:00</td>\n",
       "      <td>2024-12-07 18:45:00</td>\n",
       "      <td>45.0</td>\n",
       "      <td>4.8</td>\n",
       "    </tr>\n",
       "    <tr>\n",
       "      <th>14</th>\n",
       "      <td>U007</td>\n",
       "      <td>Grace King</td>\n",
       "      <td>38</td>\n",
       "      <td>Boston</td>\n",
       "      <td>2023-07-02</td>\n",
       "      <td>999-888-7777</td>\n",
       "      <td>grace@email.com</td>\n",
       "      <td>Breakfast</td>\n",
       "      <td>14</td>\n",
       "      <td>S015</td>\n",
       "      <td>Spaghetti</td>\n",
       "      <td>Dinner</td>\n",
       "      <td>2024-12-08 19:30:00</td>\n",
       "      <td>2024-12-08 20:10:00</td>\n",
       "      <td>40.0</td>\n",
       "      <td>5.0</td>\n",
       "    </tr>\n",
       "    <tr>\n",
       "      <th>15</th>\n",
       "      <td>U008</td>\n",
       "      <td>Henry Lee</td>\n",
       "      <td>31</td>\n",
       "      <td>Miami</td>\n",
       "      <td>2023-08-11</td>\n",
       "      <td>101-202-3030</td>\n",
       "      <td>henry@email.com</td>\n",
       "      <td>Dinner</td>\n",
       "      <td>5</td>\n",
       "      <td>S016</td>\n",
       "      <td>Veggie Burger</td>\n",
       "      <td>Lunch</td>\n",
       "      <td>2024-12-08 13:30:00</td>\n",
       "      <td>2024-12-08 13:50:00</td>\n",
       "      <td>20.0</td>\n",
       "      <td>4.3</td>\n",
       "    </tr>\n",
       "    <tr>\n",
       "      <th>16</th>\n",
       "      <td>U009</td>\n",
       "      <td>Irene Moore</td>\n",
       "      <td>33</td>\n",
       "      <td>Dallas</td>\n",
       "      <td>2023-09-01</td>\n",
       "      <td>202-303-4040</td>\n",
       "      <td>irene@email.com</td>\n",
       "      <td>Lunch</td>\n",
       "      <td>6</td>\n",
       "      <td>NaN</td>\n",
       "      <td>NaN</td>\n",
       "      <td>NaN</td>\n",
       "      <td>NaT</td>\n",
       "      <td>NaT</td>\n",
       "      <td>NaN</td>\n",
       "      <td>NaN</td>\n",
       "    </tr>\n",
       "    <tr>\n",
       "      <th>17</th>\n",
       "      <td>U010</td>\n",
       "      <td>Jack White</td>\n",
       "      <td>29</td>\n",
       "      <td>Phoenix</td>\n",
       "      <td>2023-10-10</td>\n",
       "      <td>303-404-5050</td>\n",
       "      <td>jack@email.com</td>\n",
       "      <td>Dinner</td>\n",
       "      <td>8</td>\n",
       "      <td>NaN</td>\n",
       "      <td>NaN</td>\n",
       "      <td>NaN</td>\n",
       "      <td>NaT</td>\n",
       "      <td>NaT</td>\n",
       "      <td>NaN</td>\n",
       "      <td>NaN</td>\n",
       "    </tr>\n",
       "  </tbody>\n",
       "</table>\n",
       "</div>"
      ],
      "text/plain": [
       "   User ID      User Name  Age       Location Registration Date         Phone  \\\n",
       "0     U001  Alice Johnson   28       New York        2023-01-15  123-456-7890   \n",
       "1     U001  Alice Johnson   28       New York        2023-01-15  123-456-7890   \n",
       "2     U001  Alice Johnson   28       New York        2023-01-15  123-456-7890   \n",
       "3     U002      Bob Smith   35    Los Angeles        2023-02-20  987-654-3210   \n",
       "4     U002      Bob Smith   35    Los Angeles        2023-02-20  987-654-3210   \n",
       "5     U002      Bob Smith   35    Los Angeles        2023-02-20  987-654-3210   \n",
       "6     U003    Charlie Lee   42        Chicago        2023-03-10  555-123-4567   \n",
       "7     U003    Charlie Lee   42        Chicago        2023-03-10  555-123-4567   \n",
       "8     U003    Charlie Lee   42        Chicago        2023-03-10  555-123-4567   \n",
       "9     U004    David Brown   27  San Francisco        2023-04-05  444-333-2222   \n",
       "10    U004    David Brown   27  San Francisco        2023-04-05  444-333-2222   \n",
       "11    U005     Emma White   30        Seattle        2023-05-22  777-888-9999   \n",
       "12    U005     Emma White   30        Seattle        2023-05-22  777-888-9999   \n",
       "13    U006    Frank Green   25         Austin        2023-06-15  888-777-6666   \n",
       "14    U007     Grace King   38         Boston        2023-07-02  999-888-7777   \n",
       "15    U008      Henry Lee   31          Miami        2023-08-11  101-202-3030   \n",
       "16    U009    Irene Moore   33         Dallas        2023-09-01  202-303-4040   \n",
       "17    U010     Jack White   29        Phoenix        2023-10-10  303-404-5050   \n",
       "\n",
       "                Email Favorite Meal  Total Orders Session ID        Dish Name  \\\n",
       "0     alice@email.com        Dinner            12       S001        Spaghetti   \n",
       "1     alice@email.com        Dinner            12       S004         Pancakes   \n",
       "2     alice@email.com        Dinner            12       S009  Grilled Chicken   \n",
       "3       bob@email.com         Lunch             8       S002     Caesar Salad   \n",
       "4       bob@email.com         Lunch             8       S006        Spaghetti   \n",
       "5       bob@email.com         Lunch             8       S010          Oatmeal   \n",
       "6   charlie@email.com     Breakfast            15       S003  Grilled Chicken   \n",
       "7   charlie@email.com     Breakfast            15       S008    Veggie Burger   \n",
       "8   charlie@email.com     Breakfast            15       S011         Pancakes   \n",
       "9     david@email.com        Dinner            10       S005     Caesar Salad   \n",
       "10    david@email.com        Dinner            10       S012        Spaghetti   \n",
       "11     emma@email.com         Lunch             9       S007  Grilled Chicken   \n",
       "12     emma@email.com         Lunch             9       S013     Caesar Salad   \n",
       "13    frank@email.com        Dinner             7       S014  Grilled Chicken   \n",
       "14    grace@email.com     Breakfast            14       S015        Spaghetti   \n",
       "15    henry@email.com        Dinner             5       S016    Veggie Burger   \n",
       "16    irene@email.com         Lunch             6        NaN              NaN   \n",
       "17     jack@email.com        Dinner             8        NaN              NaN   \n",
       "\n",
       "    Meal Type       Session Start         Session End  Duration (mins)  \\\n",
       "0      Dinner 2024-12-01 19:00:00 2024-12-01 19:30:00             30.0   \n",
       "1   Breakfast 2024-12-02 07:30:00 2024-12-02 08:00:00             30.0   \n",
       "2      Dinner 2024-12-05 19:00:00 2024-12-05 19:40:00             40.0   \n",
       "3       Lunch 2024-12-01 12:00:00 2024-12-01 12:20:00             20.0   \n",
       "4      Dinner 2024-12-03 18:30:00 2024-12-03 19:00:00             30.0   \n",
       "5   Breakfast 2024-12-05 07:00:00 2024-12-05 07:10:00             10.0   \n",
       "6      Dinner 2024-12-02 19:30:00 2024-12-02 20:10:00             40.0   \n",
       "7       Lunch 2024-12-04 13:30:00 2024-12-04 13:50:00             20.0   \n",
       "8   Breakfast 2024-12-06 08:00:00 2024-12-06 08:30:00             30.0   \n",
       "9       Lunch 2024-12-03 13:00:00 2024-12-03 13:15:00             15.0   \n",
       "10     Dinner 2024-12-06 19:00:00 2024-12-06 19:40:00             40.0   \n",
       "11     Dinner 2024-12-04 18:00:00 2024-12-04 18:45:00             45.0   \n",
       "12      Lunch 2024-12-07 12:30:00 2024-12-07 13:00:00             30.0   \n",
       "13     Dinner 2024-12-07 18:00:00 2024-12-07 18:45:00             45.0   \n",
       "14     Dinner 2024-12-08 19:30:00 2024-12-08 20:10:00             40.0   \n",
       "15      Lunch 2024-12-08 13:30:00 2024-12-08 13:50:00             20.0   \n",
       "16        NaN                 NaT                 NaT              NaN   \n",
       "17        NaN                 NaT                 NaT              NaN   \n",
       "\n",
       "    Session Rating  \n",
       "0              4.5  \n",
       "1              4.2  \n",
       "2              4.9  \n",
       "3              4.0  \n",
       "4              4.3  \n",
       "5              4.1  \n",
       "6              4.8  \n",
       "7              4.4  \n",
       "8              4.6  \n",
       "9              4.7  \n",
       "10             4.7  \n",
       "11             4.6  \n",
       "12             4.4  \n",
       "13             4.8  \n",
       "14             5.0  \n",
       "15             4.3  \n",
       "16             NaN  \n",
       "17             NaN  "
      ]
     },
     "execution_count": 19,
     "metadata": {},
     "output_type": "execute_result"
    }
   ],
   "source": [
    "User_cooking"
   ]
  },
  {
   "cell_type": "code",
   "execution_count": 20,
   "id": "6177a315",
   "metadata": {},
   "outputs": [],
   "source": [
    "Order_det.drop(columns=['User ID','Meal Type','Dish Name'], inplace=True)"
   ]
  },
  {
   "cell_type": "code",
   "execution_count": 21,
   "id": "c1e3c46c",
   "metadata": {},
   "outputs": [
    {
     "data": {
      "text/html": [
       "<div>\n",
       "<style scoped>\n",
       "    .dataframe tbody tr th:only-of-type {\n",
       "        vertical-align: middle;\n",
       "    }\n",
       "\n",
       "    .dataframe tbody tr th {\n",
       "        vertical-align: top;\n",
       "    }\n",
       "\n",
       "    .dataframe thead th {\n",
       "        text-align: right;\n",
       "    }\n",
       "</style>\n",
       "<table border=\"1\" class=\"dataframe\">\n",
       "  <thead>\n",
       "    <tr style=\"text-align: right;\">\n",
       "      <th></th>\n",
       "      <th>Order ID</th>\n",
       "      <th>Order Date</th>\n",
       "      <th>Order Status</th>\n",
       "      <th>Amount (USD)</th>\n",
       "      <th>Time of Day</th>\n",
       "      <th>Rating</th>\n",
       "      <th>Session ID</th>\n",
       "    </tr>\n",
       "  </thead>\n",
       "  <tbody>\n",
       "    <tr>\n",
       "      <th>0</th>\n",
       "      <td>1001</td>\n",
       "      <td>2024-12-01</td>\n",
       "      <td>Completed</td>\n",
       "      <td>15.0</td>\n",
       "      <td>Night</td>\n",
       "      <td>5.0</td>\n",
       "      <td>S001</td>\n",
       "    </tr>\n",
       "    <tr>\n",
       "      <th>1</th>\n",
       "      <td>1002</td>\n",
       "      <td>2024-12-01</td>\n",
       "      <td>Completed</td>\n",
       "      <td>10.0</td>\n",
       "      <td>Day</td>\n",
       "      <td>4.0</td>\n",
       "      <td>S002</td>\n",
       "    </tr>\n",
       "    <tr>\n",
       "      <th>2</th>\n",
       "      <td>1003</td>\n",
       "      <td>2024-12-02</td>\n",
       "      <td>Canceled</td>\n",
       "      <td>12.5</td>\n",
       "      <td>Night</td>\n",
       "      <td>4.3</td>\n",
       "      <td>S003</td>\n",
       "    </tr>\n",
       "    <tr>\n",
       "      <th>3</th>\n",
       "      <td>1004</td>\n",
       "      <td>2024-12-02</td>\n",
       "      <td>Completed</td>\n",
       "      <td>8.0</td>\n",
       "      <td>Morning</td>\n",
       "      <td>4.0</td>\n",
       "      <td>S004</td>\n",
       "    </tr>\n",
       "    <tr>\n",
       "      <th>4</th>\n",
       "      <td>1005</td>\n",
       "      <td>2024-12-03</td>\n",
       "      <td>Completed</td>\n",
       "      <td>9.0</td>\n",
       "      <td>Day</td>\n",
       "      <td>4.0</td>\n",
       "      <td>S005</td>\n",
       "    </tr>\n",
       "    <tr>\n",
       "      <th>5</th>\n",
       "      <td>1006</td>\n",
       "      <td>2024-12-03</td>\n",
       "      <td>Completed</td>\n",
       "      <td>14.0</td>\n",
       "      <td>Night</td>\n",
       "      <td>4.0</td>\n",
       "      <td>S006</td>\n",
       "    </tr>\n",
       "    <tr>\n",
       "      <th>6</th>\n",
       "      <td>1007</td>\n",
       "      <td>2024-12-04</td>\n",
       "      <td>Completed</td>\n",
       "      <td>13.5</td>\n",
       "      <td>Night</td>\n",
       "      <td>4.0</td>\n",
       "      <td>S007</td>\n",
       "    </tr>\n",
       "    <tr>\n",
       "      <th>7</th>\n",
       "      <td>1008</td>\n",
       "      <td>2024-12-04</td>\n",
       "      <td>Canceled</td>\n",
       "      <td>11.0</td>\n",
       "      <td>Day</td>\n",
       "      <td>4.3</td>\n",
       "      <td>S008</td>\n",
       "    </tr>\n",
       "    <tr>\n",
       "      <th>8</th>\n",
       "      <td>1009</td>\n",
       "      <td>2024-12-05</td>\n",
       "      <td>Completed</td>\n",
       "      <td>12.0</td>\n",
       "      <td>Night</td>\n",
       "      <td>5.0</td>\n",
       "      <td>S009</td>\n",
       "    </tr>\n",
       "    <tr>\n",
       "      <th>9</th>\n",
       "      <td>1010</td>\n",
       "      <td>2024-12-05</td>\n",
       "      <td>Completed</td>\n",
       "      <td>7.0</td>\n",
       "      <td>Morning</td>\n",
       "      <td>4.0</td>\n",
       "      <td>S010</td>\n",
       "    </tr>\n",
       "    <tr>\n",
       "      <th>10</th>\n",
       "      <td>1011</td>\n",
       "      <td>2024-12-06</td>\n",
       "      <td>Completed</td>\n",
       "      <td>8.5</td>\n",
       "      <td>Morning</td>\n",
       "      <td>4.0</td>\n",
       "      <td>S011</td>\n",
       "    </tr>\n",
       "    <tr>\n",
       "      <th>11</th>\n",
       "      <td>1012</td>\n",
       "      <td>2024-12-06</td>\n",
       "      <td>Completed</td>\n",
       "      <td>12.5</td>\n",
       "      <td>Night</td>\n",
       "      <td>4.0</td>\n",
       "      <td>S012</td>\n",
       "    </tr>\n",
       "    <tr>\n",
       "      <th>12</th>\n",
       "      <td>1013</td>\n",
       "      <td>2024-12-07</td>\n",
       "      <td>Completed</td>\n",
       "      <td>9.0</td>\n",
       "      <td>Day</td>\n",
       "      <td>4.0</td>\n",
       "      <td>S013</td>\n",
       "    </tr>\n",
       "    <tr>\n",
       "      <th>13</th>\n",
       "      <td>1014</td>\n",
       "      <td>2024-12-07</td>\n",
       "      <td>Completed</td>\n",
       "      <td>13.0</td>\n",
       "      <td>Night</td>\n",
       "      <td>5.0</td>\n",
       "      <td>S014</td>\n",
       "    </tr>\n",
       "    <tr>\n",
       "      <th>14</th>\n",
       "      <td>1015</td>\n",
       "      <td>2024-12-08</td>\n",
       "      <td>Completed</td>\n",
       "      <td>14.0</td>\n",
       "      <td>Night</td>\n",
       "      <td>5.0</td>\n",
       "      <td>S015</td>\n",
       "    </tr>\n",
       "    <tr>\n",
       "      <th>15</th>\n",
       "      <td>1016</td>\n",
       "      <td>2024-12-08</td>\n",
       "      <td>Completed</td>\n",
       "      <td>11.0</td>\n",
       "      <td>Day</td>\n",
       "      <td>4.0</td>\n",
       "      <td>S016</td>\n",
       "    </tr>\n",
       "  </tbody>\n",
       "</table>\n",
       "</div>"
      ],
      "text/plain": [
       "    Order ID Order Date Order Status  Amount (USD) Time of Day  Rating  \\\n",
       "0       1001 2024-12-01    Completed          15.0       Night     5.0   \n",
       "1       1002 2024-12-01    Completed          10.0         Day     4.0   \n",
       "2       1003 2024-12-02     Canceled          12.5       Night     4.3   \n",
       "3       1004 2024-12-02    Completed           8.0     Morning     4.0   \n",
       "4       1005 2024-12-03    Completed           9.0         Day     4.0   \n",
       "5       1006 2024-12-03    Completed          14.0       Night     4.0   \n",
       "6       1007 2024-12-04    Completed          13.5       Night     4.0   \n",
       "7       1008 2024-12-04     Canceled          11.0         Day     4.3   \n",
       "8       1009 2024-12-05    Completed          12.0       Night     5.0   \n",
       "9       1010 2024-12-05    Completed           7.0     Morning     4.0   \n",
       "10      1011 2024-12-06    Completed           8.5     Morning     4.0   \n",
       "11      1012 2024-12-06    Completed          12.5       Night     4.0   \n",
       "12      1013 2024-12-07    Completed           9.0         Day     4.0   \n",
       "13      1014 2024-12-07    Completed          13.0       Night     5.0   \n",
       "14      1015 2024-12-08    Completed          14.0       Night     5.0   \n",
       "15      1016 2024-12-08    Completed          11.0         Day     4.0   \n",
       "\n",
       "   Session ID  \n",
       "0        S001  \n",
       "1        S002  \n",
       "2        S003  \n",
       "3        S004  \n",
       "4        S005  \n",
       "5        S006  \n",
       "6        S007  \n",
       "7        S008  \n",
       "8        S009  \n",
       "9        S010  \n",
       "10       S011  \n",
       "11       S012  \n",
       "12       S013  \n",
       "13       S014  \n",
       "14       S015  \n",
       "15       S016  "
      ]
     },
     "execution_count": 21,
     "metadata": {},
     "output_type": "execute_result"
    }
   ],
   "source": [
    "Order_det"
   ]
  },
  {
   "cell_type": "code",
   "execution_count": 22,
   "id": "85a78e4f",
   "metadata": {},
   "outputs": [
    {
     "data": {
      "text/html": [
       "<div>\n",
       "<style scoped>\n",
       "    .dataframe tbody tr th:only-of-type {\n",
       "        vertical-align: middle;\n",
       "    }\n",
       "\n",
       "    .dataframe tbody tr th {\n",
       "        vertical-align: top;\n",
       "    }\n",
       "\n",
       "    .dataframe thead th {\n",
       "        text-align: right;\n",
       "    }\n",
       "</style>\n",
       "<table border=\"1\" class=\"dataframe\">\n",
       "  <thead>\n",
       "    <tr style=\"text-align: right;\">\n",
       "      <th></th>\n",
       "      <th>User ID</th>\n",
       "      <th>User Name</th>\n",
       "      <th>Age</th>\n",
       "      <th>Location</th>\n",
       "      <th>Registration Date</th>\n",
       "      <th>Phone</th>\n",
       "      <th>Email</th>\n",
       "      <th>Favorite Meal</th>\n",
       "      <th>Total Orders</th>\n",
       "      <th>Session ID</th>\n",
       "      <th>...</th>\n",
       "      <th>Session Start</th>\n",
       "      <th>Session End</th>\n",
       "      <th>Duration (mins)</th>\n",
       "      <th>Session Rating</th>\n",
       "      <th>Order ID</th>\n",
       "      <th>Order Date</th>\n",
       "      <th>Order Status</th>\n",
       "      <th>Amount (USD)</th>\n",
       "      <th>Time of Day</th>\n",
       "      <th>Rating</th>\n",
       "    </tr>\n",
       "  </thead>\n",
       "  <tbody>\n",
       "    <tr>\n",
       "      <th>0</th>\n",
       "      <td>U001</td>\n",
       "      <td>Alice Johnson</td>\n",
       "      <td>28</td>\n",
       "      <td>New York</td>\n",
       "      <td>2023-01-15</td>\n",
       "      <td>123-456-7890</td>\n",
       "      <td>alice@email.com</td>\n",
       "      <td>Dinner</td>\n",
       "      <td>12</td>\n",
       "      <td>S001</td>\n",
       "      <td>...</td>\n",
       "      <td>2024-12-01 19:00:00</td>\n",
       "      <td>2024-12-01 19:30:00</td>\n",
       "      <td>30.0</td>\n",
       "      <td>4.5</td>\n",
       "      <td>1001.0</td>\n",
       "      <td>2024-12-01</td>\n",
       "      <td>Completed</td>\n",
       "      <td>15.0</td>\n",
       "      <td>Night</td>\n",
       "      <td>5.0</td>\n",
       "    </tr>\n",
       "    <tr>\n",
       "      <th>1</th>\n",
       "      <td>U001</td>\n",
       "      <td>Alice Johnson</td>\n",
       "      <td>28</td>\n",
       "      <td>New York</td>\n",
       "      <td>2023-01-15</td>\n",
       "      <td>123-456-7890</td>\n",
       "      <td>alice@email.com</td>\n",
       "      <td>Dinner</td>\n",
       "      <td>12</td>\n",
       "      <td>S004</td>\n",
       "      <td>...</td>\n",
       "      <td>2024-12-02 07:30:00</td>\n",
       "      <td>2024-12-02 08:00:00</td>\n",
       "      <td>30.0</td>\n",
       "      <td>4.2</td>\n",
       "      <td>1004.0</td>\n",
       "      <td>2024-12-02</td>\n",
       "      <td>Completed</td>\n",
       "      <td>8.0</td>\n",
       "      <td>Morning</td>\n",
       "      <td>4.0</td>\n",
       "    </tr>\n",
       "    <tr>\n",
       "      <th>2</th>\n",
       "      <td>U001</td>\n",
       "      <td>Alice Johnson</td>\n",
       "      <td>28</td>\n",
       "      <td>New York</td>\n",
       "      <td>2023-01-15</td>\n",
       "      <td>123-456-7890</td>\n",
       "      <td>alice@email.com</td>\n",
       "      <td>Dinner</td>\n",
       "      <td>12</td>\n",
       "      <td>S009</td>\n",
       "      <td>...</td>\n",
       "      <td>2024-12-05 19:00:00</td>\n",
       "      <td>2024-12-05 19:40:00</td>\n",
       "      <td>40.0</td>\n",
       "      <td>4.9</td>\n",
       "      <td>1009.0</td>\n",
       "      <td>2024-12-05</td>\n",
       "      <td>Completed</td>\n",
       "      <td>12.0</td>\n",
       "      <td>Night</td>\n",
       "      <td>5.0</td>\n",
       "    </tr>\n",
       "    <tr>\n",
       "      <th>3</th>\n",
       "      <td>U002</td>\n",
       "      <td>Bob Smith</td>\n",
       "      <td>35</td>\n",
       "      <td>Los Angeles</td>\n",
       "      <td>2023-02-20</td>\n",
       "      <td>987-654-3210</td>\n",
       "      <td>bob@email.com</td>\n",
       "      <td>Lunch</td>\n",
       "      <td>8</td>\n",
       "      <td>S002</td>\n",
       "      <td>...</td>\n",
       "      <td>2024-12-01 12:00:00</td>\n",
       "      <td>2024-12-01 12:20:00</td>\n",
       "      <td>20.0</td>\n",
       "      <td>4.0</td>\n",
       "      <td>1002.0</td>\n",
       "      <td>2024-12-01</td>\n",
       "      <td>Completed</td>\n",
       "      <td>10.0</td>\n",
       "      <td>Day</td>\n",
       "      <td>4.0</td>\n",
       "    </tr>\n",
       "    <tr>\n",
       "      <th>4</th>\n",
       "      <td>U002</td>\n",
       "      <td>Bob Smith</td>\n",
       "      <td>35</td>\n",
       "      <td>Los Angeles</td>\n",
       "      <td>2023-02-20</td>\n",
       "      <td>987-654-3210</td>\n",
       "      <td>bob@email.com</td>\n",
       "      <td>Lunch</td>\n",
       "      <td>8</td>\n",
       "      <td>S006</td>\n",
       "      <td>...</td>\n",
       "      <td>2024-12-03 18:30:00</td>\n",
       "      <td>2024-12-03 19:00:00</td>\n",
       "      <td>30.0</td>\n",
       "      <td>4.3</td>\n",
       "      <td>1006.0</td>\n",
       "      <td>2024-12-03</td>\n",
       "      <td>Completed</td>\n",
       "      <td>14.0</td>\n",
       "      <td>Night</td>\n",
       "      <td>4.0</td>\n",
       "    </tr>\n",
       "  </tbody>\n",
       "</table>\n",
       "<p>5 rows × 22 columns</p>\n",
       "</div>"
      ],
      "text/plain": [
       "  User ID      User Name  Age     Location Registration Date         Phone  \\\n",
       "0    U001  Alice Johnson   28     New York        2023-01-15  123-456-7890   \n",
       "1    U001  Alice Johnson   28     New York        2023-01-15  123-456-7890   \n",
       "2    U001  Alice Johnson   28     New York        2023-01-15  123-456-7890   \n",
       "3    U002      Bob Smith   35  Los Angeles        2023-02-20  987-654-3210   \n",
       "4    U002      Bob Smith   35  Los Angeles        2023-02-20  987-654-3210   \n",
       "\n",
       "             Email Favorite Meal  Total Orders Session ID  ...  \\\n",
       "0  alice@email.com        Dinner            12       S001  ...   \n",
       "1  alice@email.com        Dinner            12       S004  ...   \n",
       "2  alice@email.com        Dinner            12       S009  ...   \n",
       "3    bob@email.com         Lunch             8       S002  ...   \n",
       "4    bob@email.com         Lunch             8       S006  ...   \n",
       "\n",
       "        Session Start         Session End Duration (mins) Session Rating  \\\n",
       "0 2024-12-01 19:00:00 2024-12-01 19:30:00            30.0            4.5   \n",
       "1 2024-12-02 07:30:00 2024-12-02 08:00:00            30.0            4.2   \n",
       "2 2024-12-05 19:00:00 2024-12-05 19:40:00            40.0            4.9   \n",
       "3 2024-12-01 12:00:00 2024-12-01 12:20:00            20.0            4.0   \n",
       "4 2024-12-03 18:30:00 2024-12-03 19:00:00            30.0            4.3   \n",
       "\n",
       "   Order ID  Order Date  Order Status Amount (USD) Time of Day  Rating  \n",
       "0    1001.0  2024-12-01     Completed         15.0       Night     5.0  \n",
       "1    1004.0  2024-12-02     Completed          8.0     Morning     4.0  \n",
       "2    1009.0  2024-12-05     Completed         12.0       Night     5.0  \n",
       "3    1002.0  2024-12-01     Completed         10.0         Day     4.0  \n",
       "4    1006.0  2024-12-03     Completed         14.0       Night     4.0  \n",
       "\n",
       "[5 rows x 22 columns]"
      ]
     },
     "execution_count": 22,
     "metadata": {},
     "output_type": "execute_result"
    }
   ],
   "source": [
    "final_data = User_cooking.merge(Order_det, on='Session ID', how='left')\n",
    "final_data.head()"
   ]
  },
  {
   "cell_type": "code",
   "execution_count": 23,
   "id": "a816f89a",
   "metadata": {},
   "outputs": [],
   "source": [
    "final_data.drop(columns=['Email','Phone'],inplace=True)"
   ]
  },
  {
   "cell_type": "code",
   "execution_count": 24,
   "id": "890b3b00",
   "metadata": {},
   "outputs": [
    {
     "data": {
      "text/html": [
       "<div>\n",
       "<style scoped>\n",
       "    .dataframe tbody tr th:only-of-type {\n",
       "        vertical-align: middle;\n",
       "    }\n",
       "\n",
       "    .dataframe tbody tr th {\n",
       "        vertical-align: top;\n",
       "    }\n",
       "\n",
       "    .dataframe thead th {\n",
       "        text-align: right;\n",
       "    }\n",
       "</style>\n",
       "<table border=\"1\" class=\"dataframe\">\n",
       "  <thead>\n",
       "    <tr style=\"text-align: right;\">\n",
       "      <th></th>\n",
       "      <th>User ID</th>\n",
       "      <th>User Name</th>\n",
       "      <th>Age</th>\n",
       "      <th>Location</th>\n",
       "      <th>Registration Date</th>\n",
       "      <th>Favorite Meal</th>\n",
       "      <th>Total Orders</th>\n",
       "      <th>Session ID</th>\n",
       "      <th>Dish Name</th>\n",
       "      <th>Meal Type</th>\n",
       "      <th>Session Start</th>\n",
       "      <th>Session End</th>\n",
       "      <th>Duration (mins)</th>\n",
       "      <th>Session Rating</th>\n",
       "      <th>Order ID</th>\n",
       "      <th>Order Date</th>\n",
       "      <th>Order Status</th>\n",
       "      <th>Amount (USD)</th>\n",
       "      <th>Time of Day</th>\n",
       "      <th>Rating</th>\n",
       "    </tr>\n",
       "  </thead>\n",
       "  <tbody>\n",
       "    <tr>\n",
       "      <th>0</th>\n",
       "      <td>U001</td>\n",
       "      <td>Alice Johnson</td>\n",
       "      <td>28</td>\n",
       "      <td>New York</td>\n",
       "      <td>2023-01-15</td>\n",
       "      <td>Dinner</td>\n",
       "      <td>12</td>\n",
       "      <td>S001</td>\n",
       "      <td>Spaghetti</td>\n",
       "      <td>Dinner</td>\n",
       "      <td>2024-12-01 19:00:00</td>\n",
       "      <td>2024-12-01 19:30:00</td>\n",
       "      <td>30.0</td>\n",
       "      <td>4.5</td>\n",
       "      <td>1001.0</td>\n",
       "      <td>2024-12-01</td>\n",
       "      <td>Completed</td>\n",
       "      <td>15.0</td>\n",
       "      <td>Night</td>\n",
       "      <td>5.0</td>\n",
       "    </tr>\n",
       "    <tr>\n",
       "      <th>1</th>\n",
       "      <td>U001</td>\n",
       "      <td>Alice Johnson</td>\n",
       "      <td>28</td>\n",
       "      <td>New York</td>\n",
       "      <td>2023-01-15</td>\n",
       "      <td>Dinner</td>\n",
       "      <td>12</td>\n",
       "      <td>S004</td>\n",
       "      <td>Pancakes</td>\n",
       "      <td>Breakfast</td>\n",
       "      <td>2024-12-02 07:30:00</td>\n",
       "      <td>2024-12-02 08:00:00</td>\n",
       "      <td>30.0</td>\n",
       "      <td>4.2</td>\n",
       "      <td>1004.0</td>\n",
       "      <td>2024-12-02</td>\n",
       "      <td>Completed</td>\n",
       "      <td>8.0</td>\n",
       "      <td>Morning</td>\n",
       "      <td>4.0</td>\n",
       "    </tr>\n",
       "    <tr>\n",
       "      <th>2</th>\n",
       "      <td>U001</td>\n",
       "      <td>Alice Johnson</td>\n",
       "      <td>28</td>\n",
       "      <td>New York</td>\n",
       "      <td>2023-01-15</td>\n",
       "      <td>Dinner</td>\n",
       "      <td>12</td>\n",
       "      <td>S009</td>\n",
       "      <td>Grilled Chicken</td>\n",
       "      <td>Dinner</td>\n",
       "      <td>2024-12-05 19:00:00</td>\n",
       "      <td>2024-12-05 19:40:00</td>\n",
       "      <td>40.0</td>\n",
       "      <td>4.9</td>\n",
       "      <td>1009.0</td>\n",
       "      <td>2024-12-05</td>\n",
       "      <td>Completed</td>\n",
       "      <td>12.0</td>\n",
       "      <td>Night</td>\n",
       "      <td>5.0</td>\n",
       "    </tr>\n",
       "    <tr>\n",
       "      <th>3</th>\n",
       "      <td>U002</td>\n",
       "      <td>Bob Smith</td>\n",
       "      <td>35</td>\n",
       "      <td>Los Angeles</td>\n",
       "      <td>2023-02-20</td>\n",
       "      <td>Lunch</td>\n",
       "      <td>8</td>\n",
       "      <td>S002</td>\n",
       "      <td>Caesar Salad</td>\n",
       "      <td>Lunch</td>\n",
       "      <td>2024-12-01 12:00:00</td>\n",
       "      <td>2024-12-01 12:20:00</td>\n",
       "      <td>20.0</td>\n",
       "      <td>4.0</td>\n",
       "      <td>1002.0</td>\n",
       "      <td>2024-12-01</td>\n",
       "      <td>Completed</td>\n",
       "      <td>10.0</td>\n",
       "      <td>Day</td>\n",
       "      <td>4.0</td>\n",
       "    </tr>\n",
       "    <tr>\n",
       "      <th>4</th>\n",
       "      <td>U002</td>\n",
       "      <td>Bob Smith</td>\n",
       "      <td>35</td>\n",
       "      <td>Los Angeles</td>\n",
       "      <td>2023-02-20</td>\n",
       "      <td>Lunch</td>\n",
       "      <td>8</td>\n",
       "      <td>S006</td>\n",
       "      <td>Spaghetti</td>\n",
       "      <td>Dinner</td>\n",
       "      <td>2024-12-03 18:30:00</td>\n",
       "      <td>2024-12-03 19:00:00</td>\n",
       "      <td>30.0</td>\n",
       "      <td>4.3</td>\n",
       "      <td>1006.0</td>\n",
       "      <td>2024-12-03</td>\n",
       "      <td>Completed</td>\n",
       "      <td>14.0</td>\n",
       "      <td>Night</td>\n",
       "      <td>4.0</td>\n",
       "    </tr>\n",
       "  </tbody>\n",
       "</table>\n",
       "</div>"
      ],
      "text/plain": [
       "  User ID      User Name  Age     Location Registration Date Favorite Meal  \\\n",
       "0    U001  Alice Johnson   28     New York        2023-01-15        Dinner   \n",
       "1    U001  Alice Johnson   28     New York        2023-01-15        Dinner   \n",
       "2    U001  Alice Johnson   28     New York        2023-01-15        Dinner   \n",
       "3    U002      Bob Smith   35  Los Angeles        2023-02-20         Lunch   \n",
       "4    U002      Bob Smith   35  Los Angeles        2023-02-20         Lunch   \n",
       "\n",
       "   Total Orders Session ID        Dish Name  Meal Type       Session Start  \\\n",
       "0            12       S001        Spaghetti     Dinner 2024-12-01 19:00:00   \n",
       "1            12       S004         Pancakes  Breakfast 2024-12-02 07:30:00   \n",
       "2            12       S009  Grilled Chicken     Dinner 2024-12-05 19:00:00   \n",
       "3             8       S002     Caesar Salad      Lunch 2024-12-01 12:00:00   \n",
       "4             8       S006        Spaghetti     Dinner 2024-12-03 18:30:00   \n",
       "\n",
       "          Session End  Duration (mins)  Session Rating  Order ID Order Date  \\\n",
       "0 2024-12-01 19:30:00             30.0             4.5    1001.0 2024-12-01   \n",
       "1 2024-12-02 08:00:00             30.0             4.2    1004.0 2024-12-02   \n",
       "2 2024-12-05 19:40:00             40.0             4.9    1009.0 2024-12-05   \n",
       "3 2024-12-01 12:20:00             20.0             4.0    1002.0 2024-12-01   \n",
       "4 2024-12-03 19:00:00             30.0             4.3    1006.0 2024-12-03   \n",
       "\n",
       "  Order Status  Amount (USD) Time of Day  Rating  \n",
       "0    Completed          15.0       Night     5.0  \n",
       "1    Completed           8.0     Morning     4.0  \n",
       "2    Completed          12.0       Night     5.0  \n",
       "3    Completed          10.0         Day     4.0  \n",
       "4    Completed          14.0       Night     4.0  "
      ]
     },
     "execution_count": 24,
     "metadata": {},
     "output_type": "execute_result"
    }
   ],
   "source": [
    "final_data.head()"
   ]
  },
  {
   "cell_type": "code",
   "execution_count": 25,
   "id": "91d9d4ae",
   "metadata": {},
   "outputs": [
    {
     "data": {
      "text/html": [
       "<div>\n",
       "<style scoped>\n",
       "    .dataframe tbody tr th:only-of-type {\n",
       "        vertical-align: middle;\n",
       "    }\n",
       "\n",
       "    .dataframe tbody tr th {\n",
       "        vertical-align: top;\n",
       "    }\n",
       "\n",
       "    .dataframe thead th {\n",
       "        text-align: right;\n",
       "    }\n",
       "</style>\n",
       "<table border=\"1\" class=\"dataframe\">\n",
       "  <thead>\n",
       "    <tr style=\"text-align: right;\">\n",
       "      <th></th>\n",
       "      <th>Age</th>\n",
       "      <th>Total Orders</th>\n",
       "      <th>Duration (mins)</th>\n",
       "      <th>Session Rating</th>\n",
       "      <th>Order ID</th>\n",
       "      <th>Amount (USD)</th>\n",
       "      <th>Rating</th>\n",
       "    </tr>\n",
       "  </thead>\n",
       "  <tbody>\n",
       "    <tr>\n",
       "      <th>count</th>\n",
       "      <td>18.000000</td>\n",
       "      <td>18.000000</td>\n",
       "      <td>16.000000</td>\n",
       "      <td>16.000000</td>\n",
       "      <td>16.000000</td>\n",
       "      <td>16.000000</td>\n",
       "      <td>16.000000</td>\n",
       "    </tr>\n",
       "    <tr>\n",
       "      <th>mean</th>\n",
       "      <td>32.500000</td>\n",
       "      <td>10.166667</td>\n",
       "      <td>30.312500</td>\n",
       "      <td>4.518750</td>\n",
       "      <td>1008.500000</td>\n",
       "      <td>11.250000</td>\n",
       "      <td>4.287500</td>\n",
       "    </tr>\n",
       "    <tr>\n",
       "      <th>std</th>\n",
       "      <td>5.554542</td>\n",
       "      <td>3.166925</td>\n",
       "      <td>10.873324</td>\n",
       "      <td>0.292617</td>\n",
       "      <td>4.760952</td>\n",
       "      <td>2.435843</td>\n",
       "      <td>0.436463</td>\n",
       "    </tr>\n",
       "    <tr>\n",
       "      <th>min</th>\n",
       "      <td>25.000000</td>\n",
       "      <td>5.000000</td>\n",
       "      <td>10.000000</td>\n",
       "      <td>4.000000</td>\n",
       "      <td>1001.000000</td>\n",
       "      <td>7.000000</td>\n",
       "      <td>4.000000</td>\n",
       "    </tr>\n",
       "    <tr>\n",
       "      <th>25%</th>\n",
       "      <td>28.000000</td>\n",
       "      <td>8.000000</td>\n",
       "      <td>20.000000</td>\n",
       "      <td>4.300000</td>\n",
       "      <td>1004.750000</td>\n",
       "      <td>9.000000</td>\n",
       "      <td>4.000000</td>\n",
       "    </tr>\n",
       "    <tr>\n",
       "      <th>50%</th>\n",
       "      <td>30.500000</td>\n",
       "      <td>9.500000</td>\n",
       "      <td>30.000000</td>\n",
       "      <td>4.550000</td>\n",
       "      <td>1008.500000</td>\n",
       "      <td>11.500000</td>\n",
       "      <td>4.000000</td>\n",
       "    </tr>\n",
       "    <tr>\n",
       "      <th>75%</th>\n",
       "      <td>35.000000</td>\n",
       "      <td>12.000000</td>\n",
       "      <td>40.000000</td>\n",
       "      <td>4.725000</td>\n",
       "      <td>1012.250000</td>\n",
       "      <td>13.125000</td>\n",
       "      <td>4.475000</td>\n",
       "    </tr>\n",
       "    <tr>\n",
       "      <th>max</th>\n",
       "      <td>42.000000</td>\n",
       "      <td>15.000000</td>\n",
       "      <td>45.000000</td>\n",
       "      <td>5.000000</td>\n",
       "      <td>1016.000000</td>\n",
       "      <td>15.000000</td>\n",
       "      <td>5.000000</td>\n",
       "    </tr>\n",
       "  </tbody>\n",
       "</table>\n",
       "</div>"
      ],
      "text/plain": [
       "             Age  Total Orders  Duration (mins)  Session Rating     Order ID  \\\n",
       "count  18.000000     18.000000        16.000000       16.000000    16.000000   \n",
       "mean   32.500000     10.166667        30.312500        4.518750  1008.500000   \n",
       "std     5.554542      3.166925        10.873324        0.292617     4.760952   \n",
       "min    25.000000      5.000000        10.000000        4.000000  1001.000000   \n",
       "25%    28.000000      8.000000        20.000000        4.300000  1004.750000   \n",
       "50%    30.500000      9.500000        30.000000        4.550000  1008.500000   \n",
       "75%    35.000000     12.000000        40.000000        4.725000  1012.250000   \n",
       "max    42.000000     15.000000        45.000000        5.000000  1016.000000   \n",
       "\n",
       "       Amount (USD)     Rating  \n",
       "count     16.000000  16.000000  \n",
       "mean      11.250000   4.287500  \n",
       "std        2.435843   0.436463  \n",
       "min        7.000000   4.000000  \n",
       "25%        9.000000   4.000000  \n",
       "50%       11.500000   4.000000  \n",
       "75%       13.125000   4.475000  \n",
       "max       15.000000   5.000000  "
      ]
     },
     "execution_count": 25,
     "metadata": {},
     "output_type": "execute_result"
    }
   ],
   "source": [
    "final_data.describe()"
   ]
  },
  {
   "cell_type": "code",
   "execution_count": 26,
   "id": "151b30bd",
   "metadata": {},
   "outputs": [
    {
     "name": "stdout",
     "output_type": "stream",
     "text": [
      "<class 'pandas.core.frame.DataFrame'>\n",
      "Int64Index: 18 entries, 0 to 17\n",
      "Data columns (total 20 columns):\n",
      " #   Column             Non-Null Count  Dtype         \n",
      "---  ------             --------------  -----         \n",
      " 0   User ID            18 non-null     object        \n",
      " 1   User Name          18 non-null     object        \n",
      " 2   Age                18 non-null     int32         \n",
      " 3   Location           18 non-null     object        \n",
      " 4   Registration Date  18 non-null     datetime64[ns]\n",
      " 5   Favorite Meal      18 non-null     object        \n",
      " 6   Total Orders       18 non-null     int32         \n",
      " 7   Session ID         16 non-null     object        \n",
      " 8   Dish Name          16 non-null     object        \n",
      " 9   Meal Type          16 non-null     object        \n",
      " 10  Session Start      16 non-null     datetime64[ns]\n",
      " 11  Session End        16 non-null     datetime64[ns]\n",
      " 12  Duration (mins)    16 non-null     float64       \n",
      " 13  Session Rating     16 non-null     float64       \n",
      " 14  Order ID           16 non-null     float64       \n",
      " 15  Order Date         16 non-null     datetime64[ns]\n",
      " 16  Order Status       16 non-null     object        \n",
      " 17  Amount (USD)       16 non-null     float64       \n",
      " 18  Time of Day        16 non-null     object        \n",
      " 19  Rating             16 non-null     float64       \n",
      "dtypes: datetime64[ns](4), float64(5), int32(2), object(9)\n",
      "memory usage: 2.8+ KB\n"
     ]
    }
   ],
   "source": [
    "final_data.info()"
   ]
  },
  {
   "cell_type": "code",
   "execution_count": 27,
   "id": "85fb889d",
   "metadata": {},
   "outputs": [
    {
     "data": {
      "text/plain": [
       "User ID              0\n",
       "User Name            0\n",
       "Age                  0\n",
       "Location             0\n",
       "Registration Date    0\n",
       "Favorite Meal        0\n",
       "Total Orders         0\n",
       "Session ID           2\n",
       "Dish Name            2\n",
       "Meal Type            2\n",
       "Session Start        2\n",
       "Session End          2\n",
       "Duration (mins)      2\n",
       "Session Rating       2\n",
       "Order ID             2\n",
       "Order Date           2\n",
       "Order Status         2\n",
       "Amount (USD)         2\n",
       "Time of Day          2\n",
       "Rating               2\n",
       "dtype: int64"
      ]
     },
     "execution_count": 27,
     "metadata": {},
     "output_type": "execute_result"
    }
   ],
   "source": [
    "final_data.isnull().sum()"
   ]
  },
  {
   "cell_type": "code",
   "execution_count": 28,
   "id": "a8ae7fb9",
   "metadata": {},
   "outputs": [],
   "source": [
    "final_data.dropna(inplace=True)\n"
   ]
  },
  {
   "cell_type": "code",
   "execution_count": 29,
   "id": "d6162f12",
   "metadata": {},
   "outputs": [
    {
     "data": {
      "text/plain": [
       "User ID              0\n",
       "User Name            0\n",
       "Age                  0\n",
       "Location             0\n",
       "Registration Date    0\n",
       "Favorite Meal        0\n",
       "Total Orders         0\n",
       "Session ID           0\n",
       "Dish Name            0\n",
       "Meal Type            0\n",
       "Session Start        0\n",
       "Session End          0\n",
       "Duration (mins)      0\n",
       "Session Rating       0\n",
       "Order ID             0\n",
       "Order Date           0\n",
       "Order Status         0\n",
       "Amount (USD)         0\n",
       "Time of Day          0\n",
       "Rating               0\n",
       "dtype: int64"
      ]
     },
     "execution_count": 29,
     "metadata": {},
     "output_type": "execute_result"
    }
   ],
   "source": [
    "final_data.isnull().sum()"
   ]
  },
  {
   "cell_type": "markdown",
   "id": "4fa76b5e",
   "metadata": {},
   "source": [
    "# EDA"
   ]
  },
  {
   "cell_type": "markdown",
   "id": "021a09ea",
   "metadata": {},
   "source": [
    "### Time Saving Dishes"
   ]
  },
  {
   "cell_type": "code",
   "execution_count": 30,
   "id": "2b0df73c",
   "metadata": {},
   "outputs": [
    {
     "data": {
      "text/plain": [
       "Dish Name\n",
       "Oatmeal            10.0\n",
       "Veggie Burger      20.0\n",
       "Caesar Salad       21.7\n",
       "Pancakes           30.0\n",
       "Spaghetti          35.0\n",
       "Grilled Chicken    42.5\n",
       "Name: Duration (mins), dtype: float64"
      ]
     },
     "execution_count": 30,
     "metadata": {},
     "output_type": "execute_result"
    }
   ],
   "source": [
    "#Quick - time saving\n",
    "avg_time_per_dish=final_data.groupby('Dish Name')['Duration (mins)'].mean().round(1)\n",
    "avg_time_per_dish_sorted=avg_time_per_dish.sort_values()\n",
    "avg_time_per_dish_sorted"
   ]
  },
  {
   "cell_type": "code",
   "execution_count": 31,
   "id": "bbf73810",
   "metadata": {},
   "outputs": [
    {
     "data": {
      "image/png": "[encoded data removed]",
      "text/plain": [
       "<Figure size 1000x600 with 1 Axes>"
      ]
     },
     "metadata": {},
     "output_type": "display_data"
    }
   ],
   "source": [
    "# Plot the average time per dish\n",
    "plt.figure(figsize=(10, 6))\n",
    "avg_time_per_dish_sorted.plot(kind='barh', color='Brown')\n",
    "\n",
    "plt.xlabel('Average Duration (mins)')\n",
    "plt.ylabel('Dish Name')\n",
    "plt.title('Average Time Spent Per Dish')\n",
    "plt.tight_layout() \n",
    "plt.show()\n"
   ]
  },
  {
   "cell_type": "markdown",
   "id": "ef02b6f2",
   "metadata": {},
   "source": [
    "For users seeking quick meal options, dishes like Oatmeal, Veggie Burger, and Caesar Salad can be promoted. On the other hand, dishes like Grilled Chicken may appeal to those willing to invest more time in cooking"
   ]
  },
  {
   "cell_type": "markdown",
   "id": "a814c090",
   "metadata": {},
   "source": [
    "### Super Easy Dishes"
   ]
  },
  {
   "cell_type": "code",
   "execution_count": 32,
   "id": "56c30a8f",
   "metadata": {
    "scrolled": true
   },
   "outputs": [
    {
     "data": {
      "text/plain": [
       "Dish Name\n",
       "Grilled Chicken    4.8\n",
       "Spaghetti          4.6\n",
       "Caesar Salad       4.4\n",
       "Pancakes           4.4\n",
       "Veggie Burger      4.4\n",
       "Oatmeal            4.1\n",
       "Name: Session Rating, dtype: float64"
      ]
     },
     "execution_count": 32,
     "metadata": {},
     "output_type": "execute_result"
    }
   ],
   "source": [
    "#Top Easy Dishes\n",
    "avg_session_rating_per_dish=final_data.groupby('Dish Name')['Session Rating'].mean().round(1)\n",
    "avg_session_rating_per_dish_sorted=avg_session_rating_per_dish.sort_values(ascending=False)\n",
    "avg_session_rating_per_dish_sorted"
   ]
  },
  {
   "cell_type": "code",
   "execution_count": 33,
   "id": "67d3c2b5",
   "metadata": {},
   "outputs": [
    {
     "data": {
      "image/png": "[encoded data removed]",
      "text/plain": [
       "<Figure size 1000x600 with 1 Axes>"
      ]
     },
     "metadata": {},
     "output_type": "display_data"
    }
   ],
   "source": [
    "# Plot the average session rating per dish\n",
    "plt.figure(figsize=(10, 6))\n",
    "avg_session_rating_per_dish_sorted.plot(kind='bar', color='lightcoral')  \n",
    "\n",
    "plt.xlabel('Average Session Rating')\n",
    "plt.ylabel('Dish Name')\n",
    "plt.title('Top Easy Dishes Based on Session Rating')\n",
    "plt.xticks(rotation=45)\n",
    "plt.yticks(np.arange(0, 5.5, 0.25))\n",
    "plt.tight_layout() \n",
    "plt.show()"
   ]
  },
  {
   "cell_type": "markdown",
   "id": "42abbaa8",
   "metadata": {},
   "source": [
    "Dishes like Grilled Chicken and Spaghetti strike a balance between user satisfaction and effort, making them ideal to promote for customers seeking enjoyable meals"
   ]
  },
  {
   "cell_type": "markdown",
   "id": "f9829ef9",
   "metadata": {},
   "source": [
    "### Budget Friendly Dishes"
   ]
  },
  {
   "cell_type": "code",
   "execution_count": 34,
   "id": "563b2727",
   "metadata": {},
   "outputs": [
    {
     "data": {
      "text/plain": [
       "Dish Name\n",
       "Oatmeal             7.0\n",
       "Pancakes            8.0\n",
       "Caesar Salad        9.0\n",
       "Veggie Burger      11.0\n",
       "Grilled Chicken    12.0\n",
       "Spaghetti          12.5\n",
       "Name: Amount (USD), dtype: float64"
      ]
     },
     "execution_count": 34,
     "metadata": {},
     "output_type": "execute_result"
    }
   ],
   "source": [
    "#Pocket Friendly\n",
    "avg_cost_per_dish=final_data.groupby('Dish Name')['Amount (USD)'].min().round(1)\n",
    "avg_cost_per_dish_sorted=avg_cost_per_dish.sort_values()\n",
    "avg_cost_per_dish_sorted"
   ]
  },
  {
   "cell_type": "code",
   "execution_count": 35,
   "id": "ffaf1533",
   "metadata": {},
   "outputs": [
    {
     "data": {
      "image/png": "[encoded data removed]",
      "text/plain": [
       "<Figure size 1200x600 with 1 Axes>"
      ]
     },
     "metadata": {},
     "output_type": "display_data"
    }
   ],
   "source": [
    "# Box plot for the distribution of 'Amount (USD)' by 'Dish Name'\n",
    "plt.figure(figsize=(12, 6))\n",
    "sns.boxplot(data=final_data, x='Dish Name', y='Amount (USD)', palette='coolwarm')\n",
    "\n",
    "# Add labels and title\n",
    "plt.xlabel('Dish Name')\n",
    "plt.ylabel('Amount (USD)')\n",
    "plt.title('Cost Distribution Per Dish')\n",
    "plt.xticks(rotation=90)  \n",
    "plt.tight_layout()\n",
    "plt.show()"
   ]
  },
  {
   "cell_type": "markdown",
   "id": "332d0834",
   "metadata": {},
   "source": [
    "For users looking for budget-friendly options, dishes like Oatmeal, Pancakes, and Caesar Salad can be emphasized. Meanwhile, premium dishes like Grilled Chicken and Spaghetti can be marketed as value-for-money options for customers willing to spend a little extra."
   ]
  },
  {
   "cell_type": "markdown",
   "id": "79f87e15",
   "metadata": {},
   "source": [
    "### Top Rated Tasty Dishes"
   ]
  },
  {
   "cell_type": "code",
   "execution_count": 36,
   "id": "56b63eee",
   "metadata": {},
   "outputs": [
    {
     "data": {
      "text/plain": [
       "Dish Name\n",
       "Grilled Chicken    4.6\n",
       "Spaghetti          4.5\n",
       "Veggie Burger      4.2\n",
       "Caesar Salad       4.0\n",
       "Oatmeal            4.0\n",
       "Pancakes           4.0\n",
       "Name: Rating, dtype: float64"
      ]
     },
     "execution_count": 36,
     "metadata": {},
     "output_type": "execute_result"
    }
   ],
   "source": [
    "avg_rating_per_dish=final_data.groupby('Dish Name')['Rating'].mean().round(1)\n",
    "avg_rating_per_dish_sorted=avg_rating_per_dish.sort_values(ascending=False)\n",
    "avg_rating_per_dish_sorted"
   ]
  },
  {
   "cell_type": "code",
   "execution_count": 37,
   "id": "5e47b8b5",
   "metadata": {},
   "outputs": [
    {
     "data": {
      "image/png": "[encoded data removed]",
      "text/plain": [
       "<Figure size 500x500 with 1 Axes>"
      ]
     },
     "metadata": {},
     "output_type": "display_data"
    }
   ],
   "source": [
    "# Plot the pie chart for average ratings per dish\n",
    "plt.figure(figsize=(5, 5))\n",
    "avg_rating_per_dish_sorted.plot(kind='pie', autopct='%1.1f%%', startangle=90, colors=plt.cm.Paired.colors)\n",
    "\n",
    "plt.title('Average Rating Per Dish')\n",
    "plt.ylabel('')\n",
    "plt.show()\n"
   ]
  },
  {
   "cell_type": "code",
   "execution_count": 38,
   "id": "2c19febe",
   "metadata": {},
   "outputs": [
    {
     "data": {
      "image/png": "[encoded data removed]",
      "text/plain": [
       "<Figure size 640x480 with 1 Axes>"
      ]
     },
     "metadata": {},
     "output_type": "display_data"
    }
   ],
   "source": [
    "import matplotlib.pyplot as plt\n",
    "\n",
    "# Calculate the counts of each unique dish name\n",
    "dish_counts = final_data['Dish Name'].value_counts()\n",
    "\n",
    "# Plot the pie chart\n",
    "plt.pie(dish_counts, labels=dish_counts.index, autopct='%1.1f%%', startangle=90)\n",
    "plt.title('Frequently Ordered Dishes - Most Liked')\n",
    "plt.show()\n"
   ]
  },
  {
   "cell_type": "markdown",
   "id": "af99de39",
   "metadata": {},
   "source": [
    "Grilled Chicken and Spaghetti are not only highly rated but also frequently ordered, suggesting they should be featured prominently in promotions and menus."
   ]
  },
  {
   "cell_type": "markdown",
   "id": "cb94401a",
   "metadata": {},
   "source": [
    "### Most Busy Time Of The Day"
   ]
  },
  {
   "cell_type": "code",
   "execution_count": 39,
   "id": "39e877d5",
   "metadata": {},
   "outputs": [
    {
     "data": {
      "text/plain": [
       "Meal Type\n",
       "Dinner       8\n",
       "Lunch        5\n",
       "Breakfast    3\n",
       "Name: Order ID, dtype: int64"
      ]
     },
     "execution_count": 39,
     "metadata": {},
     "output_type": "execute_result"
    }
   ],
   "source": [
    "#Most Busy time\n",
    "most_fav_meal_type=final_data.groupby('Meal Type')['Order ID'].count()\n",
    "most_fav_meal_type.sort_values(ascending=False)"
   ]
  },
  {
   "cell_type": "code",
   "execution_count": 40,
   "id": "d2afbdf5",
   "metadata": {},
   "outputs": [
    {
     "data": {
      "text/plain": [
       "Time of Day\n",
       "Night      8\n",
       "Day        5\n",
       "Morning    3\n",
       "Name: Order ID, dtype: int64"
      ]
     },
     "execution_count": 40,
     "metadata": {},
     "output_type": "execute_result"
    }
   ],
   "source": [
    "busy_time=final_data.groupby('Time of Day')['Order ID'].count()\n",
    "busy_time.sort_values(ascending=False)"
   ]
  },
  {
   "cell_type": "code",
   "execution_count": 41,
   "id": "be2e12d3",
   "metadata": {},
   "outputs": [
    {
     "data": {
      "image/png": "[encoded data removed]",
      "text/plain": [
       "<Figure size 640x480 with 1 Axes>"
      ]
     },
     "metadata": {},
     "output_type": "display_data"
    }
   ],
   "source": [
    "import matplotlib.pyplot as plt\n",
    "\n",
    "# Count the number of orders for each time of day\n",
    "order_counts = final_data.groupby('Time of Day')['Order ID'].count()\n",
    "\n",
    "# Plot the bar chart\n",
    "plt.bar(order_counts.index, order_counts.values)\n",
    "plt.xlabel('Time of Day')\n",
    "plt.ylabel('Count of Orders')\n",
    "plt.title('Number of Orders by Time of Day')\n",
    "plt.xticks(rotation=45)\n",
    "plt.show()\n"
   ]
  },
  {
   "cell_type": "code",
   "execution_count": 42,
   "id": "cdd67884",
   "metadata": {},
   "outputs": [
    {
     "data": {
      "image/png": "[encoded data removed]",
      "text/plain": [
       "<Figure size 1000x600 with 1 Axes>"
      ]
     },
     "metadata": {},
     "output_type": "display_data"
    }
   ],
   "source": [
    "import matplotlib.pyplot as plt\n",
    "\n",
    "#Count orders for each combination of 'Time of Day' and 'Dish Name'\n",
    "order_counts = final_data.groupby(['Time of Day', 'Dish Name'])['Order ID'].count().unstack(fill_value=0)\n",
    "\n",
    "# Plot the stacked bar chart\n",
    "order_counts.plot(kind='bar', stacked=True, figsize=(10, 6))\n",
    "\n",
    "\n",
    "plt.xlabel('Time of Day')\n",
    "plt.ylabel('Count of Orders')\n",
    "plt.title('Number of Orders by Time of Day (Stacked by Dish)')\n",
    "plt.xticks(rotation=45) \n",
    "plt.legend(title='Dish Name', bbox_to_anchor=(1.05, 1), loc='upper left')\n",
    "plt.tight_layout() \n",
    "plt.show()\n"
   ]
  },
  {
   "cell_type": "markdown",
   "id": "3012a3c7",
   "metadata": {},
   "source": [
    "Night is the busiest time, with dinner orders peaking, particularly for popular dishes like Grilled Chicken and Spaghetti."
   ]
  },
  {
   "cell_type": "markdown",
   "id": "ccc1df84",
   "metadata": {},
   "source": [
    "## Dish Ordered Per Day"
   ]
  },
  {
   "cell_type": "code",
   "execution_count": 43,
   "id": "1301721f",
   "metadata": {},
   "outputs": [
    {
     "data": {
      "text/plain": [
       "0        Sunday\n",
       "1        Monday\n",
       "2      Thursday\n",
       "3        Sunday\n",
       "4       Tuesday\n",
       "5      Thursday\n",
       "6        Monday\n",
       "7     Wednesday\n",
       "8        Friday\n",
       "9       Tuesday\n",
       "10       Friday\n",
       "11    Wednesday\n",
       "12     Saturday\n",
       "13     Saturday\n",
       "14       Sunday\n",
       "15       Sunday\n",
       "Name: Day, dtype: object"
      ]
     },
     "execution_count": 43,
     "metadata": {},
     "output_type": "execute_result"
    }
   ],
   "source": [
    "final_data['Day'] = final_data['Session Start'].dt.day_name()\n",
    "final_data['Day']"
   ]
  },
  {
   "cell_type": "code",
   "execution_count": 44,
   "id": "4b7a2421",
   "metadata": {},
   "outputs": [
    {
     "data": {
      "image/png": "[encoded data removed]",
      "text/plain": [
       "<Figure size 1200x600 with 1 Axes>"
      ]
     },
     "metadata": {},
     "output_type": "display_data"
    }
   ],
   "source": [
    "import matplotlib.pyplot as plt\n",
    "\n",
    "#Count orders for each combination of 'Day' and 'Dish Name'\n",
    "order_counts = final_data.groupby(['Dish Name','Day'])['Order ID'].count().unstack(fill_value=0)\n",
    "\n",
    "# Plot the stacked bar chart\n",
    "order_counts.plot(kind='bar', stacked=True, figsize=(12, 6), colormap='viridis')\n",
    "\n",
    "plt.xlabel('Dish Name')\n",
    "plt.ylabel('Count of Orders')\n",
    "plt.title('Frequency of Dish Orders by Day')\n",
    "plt.xticks(rotation=45) \n",
    "plt.legend(title='Day', bbox_to_anchor=(1.05, 1), loc='upper left') \n",
    "plt.tight_layout() \n",
    "plt.show()\n"
   ]
  },
  {
   "cell_type": "markdown",
   "id": "25107d56",
   "metadata": {},
   "source": [
    "Sunday seems to be a busy day."
   ]
  },
  {
   "cell_type": "markdown",
   "id": "ae71fd10",
   "metadata": {},
   "source": [
    "### Demographic Factors affecting the orders"
   ]
  },
  {
   "cell_type": "code",
   "execution_count": 45,
   "id": "1df750d1",
   "metadata": {},
   "outputs": [
    {
     "data": {
      "image/png": "[encoded data removed]",
      "text/plain": [
       "<Figure size 640x480 with 1 Axes>"
      ]
     },
     "metadata": {},
     "output_type": "display_data"
    }
   ],
   "source": [
    "# Distribution of Age\n",
    "sns.histplot(User_det['Age'], kde=True)\n",
    "plt.title('Age Distribution of Users')\n",
    "plt.xlabel('Age')\n",
    "plt.ylabel('Frequency')\n",
    "plt.show()\n"
   ]
  },
  {
   "cell_type": "markdown",
   "id": "40d99a1a",
   "metadata": {},
   "source": [
    "The age distribution shows that the majority of users fall within the age range of 25 to 35 years. Hence tailored reccomendations and targeted marketing can be done."
   ]
  },
  {
   "cell_type": "code",
   "execution_count": 49,
   "id": "c1ebe663",
   "metadata": {
    "scrolled": true
   },
   "outputs": [
    {
     "data": {
      "image/png": "[encoded data removed]",
      "text/plain": [
       "<Figure size 1200x600 with 1 Axes>"
      ]
     },
     "metadata": {},
     "output_type": "display_data"
    }
   ],
   "source": [
    "#Orders prefered by a certain age group\n",
    "import matplotlib.pyplot as plt\n",
    "import seaborn as sns\n",
    "import pandas as pd\n",
    "\n",
    "\n",
    "age_bins = [25, 30, 35, 41]\n",
    "age_labels = ['25-30', '31-35', '36-41']\n",
    "final_data['Age Group'] = pd.cut(final_data['Age'], bins=age_bins, labels=age_labels, right=True)\n",
    "\n",
    "\n",
    "age_dish_counts = final_data.groupby(['Age Group', 'Dish Name'])['Order ID'].count().unstack(fill_value=0)\n",
    "\n",
    "\n",
    "age_dish_counts.plot(kind='bar', stacked=True, figsize=(12, 6), colormap='inferno')\n",
    "\n",
    "\n",
    "plt.title('Dish Preferences by Age Group')\n",
    "plt.xlabel('Age Group')\n",
    "plt.ylabel('Count of Orders')\n",
    "plt.xticks(rotation=45)  \n",
    "plt.legend(title='Dish Name', bbox_to_anchor=(1, 1), loc='upper left')\n",
    "plt.tight_layout()\n",
    "plt.show()\n"
   ]
  },
  {
   "cell_type": "markdown",
   "id": "ee94cadf",
   "metadata": {},
   "source": [
    "For the 25-30 age group, dishes like Caesar Salad, Grilled Chicken, and Spaghetti could be emphasized, as they are favored by this group.\n",
    "Spaghetti appears as a preference for the 36-41 age group."
   ]
  },
  {
   "cell_type": "code",
   "execution_count": null,
   "id": "f6e02860",
   "metadata": {},
   "outputs": [],
   "source": []
  }
 ],
 "metadata": {
  "kernelspec": {
   "display_name": "Python 3 (ipykernel)",
   "language": "python",
   "name": "python3"
  },
  "language_info": {
   "codemirror_mode": {
    "name": "ipython",
    "version": 3
   },
   "file_extension": ".py",
   "mimetype": "text/x-python",
   "name": "python",
   "nbconvert_exporter": "python",
   "pygments_lexer": "ipython3",
   "version": "3.9.18"
  }
 },
 "nbformat": 4,
 "nbformat_minor": 5
}
